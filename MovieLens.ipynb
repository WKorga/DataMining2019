{
  "nbformat": 4,
  "nbformat_minor": 0,
  "metadata": {
    "colab": {
      "name": "MovieLens.ipynb",
      "provenance": [],
      "collapsed_sections": [],
      "toc_visible": true,
      "authorship_tag": "ABX9TyNaoiBKzYe5cvNJkxwgbfqZ",
      "include_colab_link": true
    },
    "kernelspec": {
      "name": "python3",
      "display_name": "Python 3"
    }
  },
  "cells": [
    {
      "cell_type": "markdown",
      "metadata": {
        "id": "view-in-github",
        "colab_type": "text"
      },
      "source": [
        "<a href=\"https://colab.research.google.com/github/WKorga/DataMining2019/blob/master/MovieLens.ipynb\" target=\"_parent\"><img src=\"https://colab.research.google.com/assets/colab-badge.svg\" alt=\"Open In Colab\"/></a>"
      ]
    },
    {
      "cell_type": "markdown",
      "metadata": {
        "id": "Qfw9m5dGj6d1",
        "colab_type": "text"
      },
      "source": [
        "#System rekomendujący\n",
        "\n",
        "Poniższy algorytm ma pełnić rolę systemu rekomendującego filmy użytkownikom, na podstawie analizy danych dotyczących m.in. ocen wystawionych przez użytkowników, gatunków oraz tagów przypisanych poszczególnym filmom."
      ]
    },
    {
      "cell_type": "markdown",
      "metadata": {
        "id": "qKjFExkjjs_B",
        "colab_type": "text"
      },
      "source": [
        "##Opis danych\n",
        "Rekomendacje oparte zostaną na zbiorze danych [MovieLens 25M](https://grouplens.org/datasets/movielens/)\n",
        "\n",
        "W jego skład wchodzą m.in. następujące pliki z danymi:\n",
        "- **ratings.csv**- około 25 milionów rekordów, zawierających informację o tym jak dany użytkownik ocenił dany film, wraz z timestampem \n",
        "- **movies.csv** - lista wszystkich filmów, która przydziela poszczególnym tytułom unikalne ID oraz zawiera informację o gatunku każdego z filmów\n",
        "- **tags.csv** - lista rekordów zawierających informację o tagu jakim dany użytkownik oznaczył dany film\n",
        "\n",
        "\n"
      ]
    },
    {
      "cell_type": "markdown",
      "metadata": {
        "id": "4Nb64ZOAkzzB",
        "colab_type": "text"
      },
      "source": [
        "#Opis metody\n",
        "\n",
        "Algorytm oparty zostanie na wektorach cech poszczególnych filmów.\n",
        "\n",
        "Na podstawie informacji zawartych w plikach tags.csv i movies.csv, dla każdego filmu można stworzyć wektor w pewnej n-wymiarowej przestrzeni opisujący jego typ, gatunek inne kategorie jakie przydzielili mu użytkownicy.\n",
        "\n",
        "Ideą algorytmu jest polecanie użytkownikowi filmów podobnych do tych, które mu się podobały, na podstawie odległości wektorów dla poszczególnych filmów. \n",
        "\n",
        "Uproszczony opis działania:\n",
        "1. Wczytaj filmy wysoko ocenione przez użytkownika\n",
        "2. Znajdź filmy leżące jak najbliżej wysoko ocenionych w przestrzeni wektorów cech\n",
        "3. Zwróć n najlepszych wyników (np. kierując się kryterium najmniejszej odległości) "
      ]
    },
    {
      "cell_type": "markdown",
      "metadata": {
        "id": "M2AlJ6x7exb-",
        "colab_type": "text"
      },
      "source": [
        "#Importy i wczytywanie danych"
      ]
    },
    {
      "cell_type": "code",
      "metadata": {
        "id": "9bnjYCjfg49C",
        "colab_type": "code",
        "colab": {}
      },
      "source": [
        "# Standard IPython notebook imports\n",
        "%matplotlib inline\n",
        "\n",
        "import os\n",
        "\n",
        "import httpimport\n",
        "import matplotlib.pyplot as plt\n",
        "import numpy as np\n",
        "import pandas as pd\n",
        "from tqdm import tqdm_notebook\n",
        "import scipy.stats as sstats\n",
        "\n",
        "import seaborn as sns\n",
        "from sklearn import datasets\n",
        "import csv as csv\n",
        "import sklearn.decomposition\n",
        "import sklearn.svm\n",
        "from sklearn.decomposition import PCA\n",
        "\n",
        "sns.set_style('whitegrid')"
      ],
      "execution_count": 0,
      "outputs": []
    },
    {
      "cell_type": "code",
      "metadata": {
        "id": "WdYehXKHmfrV",
        "colab_type": "code",
        "outputId": "c2be8c6b-f2b1-4210-eb55-ea06dcdf0d09",
        "colab": {
          "base_uri": "https://localhost:8080/",
          "height": 34
        }
      },
      "source": [
        "from google.colab import drive\n",
        "drive.mount('/content/gdrive', force_remount=True)"
      ],
      "execution_count": 0,
      "outputs": [
        {
          "output_type": "stream",
          "text": [
            "Mounted at /content/gdrive\n"
          ],
          "name": "stdout"
        }
      ]
    },
    {
      "cell_type": "code",
      "metadata": {
        "id": "YEX9uFPLnB4M",
        "colab_type": "code",
        "colab": {}
      },
      "source": [
        "!ln -s \"/content/gdrive/My Drive\" \"/content/mydrive\""
      ],
      "execution_count": 0,
      "outputs": []
    },
    {
      "cell_type": "code",
      "metadata": {
        "id": "OGLoKb1knWfV",
        "colab_type": "code",
        "colab": {}
      },
      "source": [
        "tags_df = pd.read_csv(\"/content/mydrive/dataMining/movie_lens/tags.csv\")\n",
        "ratings_df = pd.read_csv(\"/content/mydrive/dataMining/movie_lens/ratings.csv\")\n",
        "movies_df = pd.read_csv(\"/content/mydrive/dataMining/movie_lens/movies.csv\")"
      ],
      "execution_count": 0,
      "outputs": []
    },
    {
      "cell_type": "markdown",
      "metadata": {
        "colab_type": "text",
        "id": "sb6UffWZocr1"
      },
      "source": [
        "#Tworzenie wektorów dla filmów\n",
        "Gatunki z movies.csv oraz tagi nadane przez użytkowników zostaną potraktowane równorzędnie.\n",
        "\n",
        "Na podstawie danych o tagach i gatunkach, dla każdego filmu zostanie obliczony N-wymiatowy wektor (gdzie N to liczba tagów) zawierający informację o tym jak bardzo dany film pasuje do danego tagu.\n",
        "\n",
        "Następnie, w celu zmniejszenia wymiarowości danych, wektory zostaną zredukowane za pomoca algorytmu PCA."
      ]
    },
    {
      "cell_type": "markdown",
      "metadata": {
        "id": "i9k1SxD2PXkS",
        "colab_type": "text"
      },
      "source": [
        "##Wyciąganie gatunków z movies.csv"
      ]
    },
    {
      "cell_type": "code",
      "metadata": {
        "id": "zXMaYhfuPfwg",
        "colab_type": "code",
        "colab": {}
      },
      "source": [
        "movies_df['genres']= movies_df['genres'].str.split('|')\n",
        "movies_df_ex = movies_df.explode('genres')[['movieId','genres']]\n",
        "movies_df_ex = movies_df_ex.rename(columns={'genres':'tag'})\n",
        "movies_df_ex['tag'] = movies_df_ex['tag'].str.lower()"
      ],
      "execution_count": 0,
      "outputs": []
    },
    {
      "cell_type": "markdown",
      "metadata": {
        "id": "62c3Db8yPj-J",
        "colab_type": "text"
      },
      "source": [
        "##Filtrowanie tagów\n",
        "Dane o tagach mogą zawierać sporo błędów w rodzaju literówek lub nieprawidłowych pisowni, więc zostaną one przefiltrowane pod kątem minimalnej ilości wystąpień"
      ]
    },
    {
      "cell_type": "code",
      "metadata": {
        "id": "lsX42T9RCsZ9",
        "colab_type": "code",
        "outputId": "65a0582d-d79e-453e-dc2c-815c2c38af0d",
        "colab": {
          "base_uri": "https://localhost:8080/",
          "height": 139
        }
      },
      "source": [
        "tags_df_f = tags_df[['movieId','tag']]\n",
        "tags_df_f['tag'] = tags_df_f['tag'].str.lower()\n",
        "tags, tag_count = np.unique(tags_df_f['tag'].astype(str), return_counts=True)\n",
        "tags = tags[tag_count>50]"
      ],
      "execution_count": 0,
      "outputs": [
        {
          "output_type": "stream",
          "text": [
            "/usr/local/lib/python3.6/dist-packages/ipykernel_launcher.py:2: SettingWithCopyWarning: \n",
            "A value is trying to be set on a copy of a slice from a DataFrame.\n",
            "Try using .loc[row_indexer,col_indexer] = value instead\n",
            "\n",
            "See the caveats in the documentation: http://pandas.pydata.org/pandas-docs/stable/user_guide/indexing.html#returning-a-view-versus-a-copy\n",
            "  \n"
          ],
          "name": "stderr"
        }
      ]
    },
    {
      "cell_type": "code",
      "metadata": {
        "id": "ygMCtCj5Kuwk",
        "colab_type": "code",
        "colab": {}
      },
      "source": [
        "tags_df_f = tags_df_f[np.isin(tags_df_f['tag'],tags)]"
      ],
      "execution_count": 0,
      "outputs": []
    },
    {
      "cell_type": "markdown",
      "metadata": {
        "id": "f7YmNM-RVyNQ",
        "colab_type": "text"
      },
      "source": [
        "##Wektory\n",
        "Z połączonych danych o tagach i gatunkach zostaną stworzone wektory cech dla każdego z filmów\n",
        "\n",
        "Wektor tworzony jest na podstawie ilości oznaczeń filmu danym tagiem.\n",
        "\n",
        "Jeśli film został oznaczony 5 razem tagiem A, 3 razy tagiem B i 0 razy tagiem C, to jego wektor będzie miał postać:\n",
        "<center>[5 , 3 , 0]</center>\n",
        "\n",
        "Następnie zostanie on znormalizowany, za pomocą dzielenia przez największą liczbę:\n",
        "\n",
        "<center>[1 , 0.6 , 0]</center>\n",
        "\n",
        "\n",
        "Filmy w zbiorze są wybrane losowo z prawdziwych danych, więc ID nie zachowują ciągłości. Należy je zmapować na wartości ciągłe, aby można je było przechowywać w wygodnej macierzy, gdzie kolejne wiersze to wektory filmów."
      ]
    },
    {
      "cell_type": "code",
      "metadata": {
        "id": "8FiyqbbTT6mu",
        "colab_type": "code",
        "colab": {}
      },
      "source": [
        "joined_df = pd.concat([tags_df_f, movies_df_ex], ignore_index=True)"
      ],
      "execution_count": 0,
      "outputs": []
    },
    {
      "cell_type": "code",
      "metadata": {
        "id": "8uk6rf9PV32Y",
        "colab_type": "code",
        "colab": {}
      },
      "source": [
        "joined_df['tag']=pd.Categorical(joined_df['tag'])\n",
        "joined_df['tag'] = joined_df['tag'].cat.codes\n",
        "joined_df['movieId']=pd.Categorical(joined_df['movieId'])\n",
        "movie_codes = dict(enumerate(joined_df['movieId'].cat.categories))\n",
        "joined_df['movieId'] = joined_df['movieId'].cat.codes"
      ],
      "execution_count": 0,
      "outputs": []
    },
    {
      "cell_type": "code",
      "metadata": {
        "id": "N2BhHY06w85P",
        "colab_type": "code",
        "colab": {}
      },
      "source": [
        "movie_vectors = np.zeros((np.max(joined_df['movieId'])+1,np.max(joined_df['tag'])+1))\n",
        "for movie_id, movie_df in joined_df.groupby('movieId'):\n",
        "  tags, t_counts = np.unique(movie_df['tag'], return_counts=True)\n",
        "  movie_vectors[movie_id][tags]+=(t_counts/np.max(t_counts))\n",
        "movie_vectors[movie_vectors<0.5]=1E-10"
      ],
      "execution_count": 0,
      "outputs": []
    },
    {
      "cell_type": "markdown",
      "metadata": {
        "id": "SphOo1EQv9Jw",
        "colab_type": "text"
      },
      "source": [
        "###Redukcja wymiarowosci\n",
        "Następnie przeprowadzona zostanie analiza przy pomoy algorytmu PCA, dzięki której będzie można zredukować ilośc wymiarów, przy minimalnej utracie iformacji"
      ]
    },
    {
      "cell_type": "code",
      "metadata": {
        "id": "DFw85LhqoKDS",
        "colab_type": "code",
        "outputId": "bfe48620-7fda-4839-f7e7-13314c02007f",
        "colab": {
          "base_uri": "https://localhost:8080/",
          "height": 282
        }
      },
      "source": [
        "pca = PCA()\n",
        "pca.fit(movie_vectors)\n",
        "values = pca.explained_variance_ratio_[pca.explained_variance_ratio_>0.001]\n",
        "plt.bar(np.arange(len(values)),values)"
      ],
      "execution_count": 0,
      "outputs": [
        {
          "output_type": "execute_result",
          "data": {
            "text/plain": [
              "<BarContainer object of 109 artists>"
            ]
          },
          "metadata": {
            "tags": []
          },
          "execution_count": 13
        },
        {
          "output_type": "display_data",
          "data": {
            "image/png": "[encoded data removed]",
            "text/plain": [
              "<Figure size 432x288 with 1 Axes>"
            ]
          },
          "metadata": {
            "tags": []
          }
        }
      ]
    },
    {
      "cell_type": "code",
      "metadata": {
        "id": "Xld45L_BoBOq",
        "colab_type": "code",
        "outputId": "4890ccc8-68bf-4d3f-efb4-56e4298d3fee",
        "colab": {
          "base_uri": "https://localhost:8080/",
          "height": 51
        }
      },
      "source": [
        "pca = PCA(n_components=150)\n",
        "pca.fit(movie_vectors)"
      ],
      "execution_count": 0,
      "outputs": [
        {
          "output_type": "execute_result",
          "data": {
            "text/plain": [
              "PCA(copy=True, iterated_power='auto', n_components=150, random_state=None,\n",
              "    svd_solver='auto', tol=0.0, whiten=False)"
            ]
          },
          "metadata": {
            "tags": []
          },
          "execution_count": 14
        }
      ]
    },
    {
      "cell_type": "code",
      "metadata": {
        "id": "oW4V19L5qFna",
        "colab_type": "code",
        "colab": {}
      },
      "source": [
        "movie_vectors = pca.transform(movie_vectors)"
      ],
      "execution_count": 0,
      "outputs": []
    },
    {
      "cell_type": "markdown",
      "metadata": {
        "id": "IqqBTH9jVtld",
        "colab_type": "text"
      },
      "source": [
        "#Lista filmów per użytkownik\n",
        "\n",
        "Należy teraz przetworzyć dane dotyczące ocen wystawionych przez użytkowków"
      ]
    },
    {
      "cell_type": "markdown",
      "metadata": {
        "id": "7ntON1NAjqDf",
        "colab_type": "text"
      },
      "source": [
        "Lista ocen poszczególnych jest najpierw sortowana malejąco po dacie wystawienia oceny - będzie to przydatne na etapie tworzenia rekomendacji"
      ]
    },
    {
      "cell_type": "code",
      "metadata": {
        "id": "Xza2Sr0Ke4FC",
        "colab_type": "code",
        "colab": {}
      },
      "source": [
        "ratings_df_f= ratings_df.sort_values(by='timestamp', ascending=False,inplace=False)\n",
        "inv_codes = {v: k for k, v in movie_codes.items()}\n",
        "ratings_df_f['movieId'] = ratings_df_f['movieId'].map(inv_codes)"
      ],
      "execution_count": 0,
      "outputs": []
    },
    {
      "cell_type": "markdown",
      "metadata": {
        "id": "ec-bwJUfj2QM",
        "colab_type": "text"
      },
      "source": [
        "Dla każdego użytkownika zapisywane są dwa wektory zawierające id i oceny filmów.\n",
        "\n",
        "Dla każdego filmu obliczana jest także średnia ocen użytkowników "
      ]
    },
    {
      "cell_type": "code",
      "metadata": {
        "id": "jQM2GKR1yItw",
        "colab_type": "code",
        "colab": {}
      },
      "source": [
        "user_ratings = {}\n",
        "for user_id, user_df in ratings_df_f.groupby('userId'):\n",
        "  ratings = np.array(user_df['rating'])\n",
        "  movies = np.array(user_df['movieId'])\n",
        "  user_ratings[user_id]=np.array([movies,ratings])\n",
        "\n",
        "movie_mean_ratings = np.zeros(len(movie_vectors))\n",
        "for movie_id, movie_df in ratings_df_f.groupby('movieId'):\n",
        "  ratings = np.array(movie_df['rating'])\n",
        "  movie_mean_ratings[int(movie_id)] = np.sum(ratings)/len(ratings)"
      ],
      "execution_count": 0,
      "outputs": []
    },
    {
      "cell_type": "markdown",
      "metadata": {
        "id": "lp8bT8P9zKIo",
        "colab_type": "text"
      },
      "source": [
        "#Algorytm do znajdowania filmów"
      ]
    },
    {
      "cell_type": "markdown",
      "metadata": {
        "id": "10iCFgnhwIqG",
        "colab_type": "text"
      },
      "source": [
        "Algorytm wyszukiwania filmów odpowiednich dla danego użytkownika polega na znalezieniu wektorów leżących jak najbliżej filmów wysoko przez niego ocenionych.\n"
      ]
    },
    {
      "cell_type": "markdown",
      "metadata": {
        "id": "ZQGcbLLA08U_",
        "colab_type": "text"
      },
      "source": [
        "##Obliczanie odległości"
      ]
    },
    {
      "cell_type": "markdown",
      "metadata": {
        "id": "I8muaDvhutut",
        "colab_type": "text"
      },
      "source": [
        "Za pomocą macierzy odległości znajdowana jest lista filmów leżących w pewnym określonym promieniu od filmów wysoko ocenionych przez użytkownika"
      ]
    },
    {
      "cell_type": "code",
      "metadata": {
        "id": "eRc2LQ9VzWBV",
        "colab_type": "code",
        "colab": {}
      },
      "source": [
        "def get_range_for_movie(movies, movie, max_dist):\n",
        "  movie = np.array([movie])\n",
        "  dists = (movies**2).sum(axis=1).reshape(-1,1) + (movie**2).sum(axis=1).reshape(1,-1) - 2*movies.dot(movie.T)\n",
        "  closest = np.argsort(dists, axis=0)[1:].T\n",
        "  dists = np.sort(dists, axis=0)[1:].T\n",
        "  closest = closest[dists<= max_dist]\n",
        "  dists = dists[dists<= max_dist]\n",
        "  return closest, dists"
      ],
      "execution_count": 0,
      "outputs": []
    },
    {
      "cell_type": "markdown",
      "metadata": {
        "id": "WM5T_NtIvRL8",
        "colab_type": "text"
      },
      "source": [
        "W celu ustalenia odpowiedniej skali promienia, jednorazowo obliczana jest średnia maksymalna odległość, która pozwala na znalezienie conajmniej 25 filmów leżących w sąsiedztwie danego filmu."
      ]
    },
    {
      "cell_type": "code",
      "metadata": {
        "id": "tFk9eXVGZebA",
        "colab_type": "code",
        "outputId": "21970dda-08d9-4bfe-c042-a1833a80c64d",
        "colab": {
          "base_uri": "https://localhost:8080/",
          "height": 34
        }
      },
      "source": [
        "def get_n_closest_dists(movies, users_movies, n=-1):\n",
        "  dists = (movies**2).sum(axis=1).reshape(-1,1) + (users_movies**2).sum(axis=1).reshape(1,-1) - 2*movies.dot(users_movies.T)\n",
        "  if n == -1:\n",
        "    n = len(dists)  \n",
        "  dists = np.sort(dists, axis=0)[:n].T\n",
        "  return dists\n",
        "\n",
        "max_dists = np.array([])\n",
        "prev=0\n",
        "for i in np.arange(5000,len(movie_vectors)+4999,5000):\n",
        "  dists = get_n_closest_dists(movie_vectors,movie_vectors[prev:i],n=25)\n",
        "  max_dists = np.append(max_dists,np.max(dists,axis=1).flatten())\n",
        "  prev=i\n",
        "mean_max = np.mean(max_dists)\n",
        "mean_max"
      ],
      "execution_count": 0,
      "outputs": [
        {
          "output_type": "execute_result",
          "data": {
            "text/plain": [
              "0.5894751401376662"
            ]
          },
          "metadata": {
            "tags": []
          },
          "execution_count": 19
        }
      ]
    },
    {
      "cell_type": "markdown",
      "metadata": {
        "id": "fqNU7pTL0_5Z",
        "colab_type": "text"
      },
      "source": [
        "##Tworzenie listy n rekomendacji"
      ]
    },
    {
      "cell_type": "markdown",
      "metadata": {
        "id": "TADT3kcn0H9t",
        "colab_type": "text"
      },
      "source": [
        "**Działanie właściwego algorytmu**\n",
        "\n",
        "Ze słownika wczytywane są filmy, które otrzymały od użytkownika ocenę conajmniej 3 gwiazdek\n",
        "\n",
        "Oceny są przemnażane przez wektor, który delikatnie zmniejsza je proporcjonalnie do czasu ich wystawienia. Dzięki temu nowe oceny, które bardziej oddają obecny gust użytkownika mają trochę większą wagę.\n",
        "\n",
        "Z wagami proporcjonalnymi do oceny, losowana jest lista filmów, dla których obliczona zostanie lista sąsiadów. Lepiej oceniany film ma wiekszą szansę na zostanie wybranym\n",
        "\n",
        "Następnie obliczana jest lista najbliżej leżących filmów, która jest filtrowana pod kątem już obejrzanych oraz średniej ocen innych użytkowników.\n",
        "Jeśli jest na niej mniej niż n pozycji, rekurencyjnie zwracana jest lista dla dwa razy większego promienia.\n",
        "\n",
        "W celu uniknięcia całkowitego determinizmu wyników, zamiast zwrócenia n najbliższych filmów, z listy pozycji leżących w danym promieniu losowane jest n elementów. Prawdopodobieństwo wylosowania określonego tytułu jest odwrotnie proporcjonalne do jego odległości oraz wprost proporcjonalne do jego średniej oceny,"
      ]
    },
    {
      "cell_type": "code",
      "metadata": {
        "id": "luJwrgmSIT7l",
        "colab_type": "code",
        "colab": {}
      },
      "source": [
        "def gen_n_best(n,user_id, rng=mean_max):\n",
        "  ratings = user_ratings[user_id][1]\n",
        "  movies = user_ratings[user_id][0][ratings>2.5]\n",
        "  ratings = ratings[ratings>2.5]\n",
        "  ratings = ratings*np.flip(np.logspace(-0.5,0,len(ratings),base=2))\n",
        "\n",
        "  ps = ratings/sum(ratings)\n",
        "  s_movies = np.random.choice(movies, size=n, replace=True, p=ps)\n",
        "\n",
        "  r_list = []\n",
        "  u, cn = np.unique(s_movies,return_counts=True)\n",
        "  for m, c in zip(u,cn):\n",
        "    closest, dists = get_range_for_movie(movie_vectors,movie_vectors[int(m)],max_dist=rng)\n",
        "    unseen = np.logical_not(np.isin(closest,user_ratings[user_id][0]))\n",
        "    closest = closest[unseen]\n",
        "    dists = dists[unseen]\n",
        "    mean_ratings = movie_mean_ratings[closest]\n",
        "    closest = closest[mean_ratings>2.5]\n",
        "    dists = dists[mean_ratings>2.5]\n",
        "    mean_ratings = mean_ratings[mean_ratings>2.5]\n",
        "    if len(closest) < n:\n",
        "      return gen_n_best(n,user_id, 2*rng)\n",
        "    probabilities = mean_ratings/np.abs((dists+1E-23))\n",
        "    probabilities = probabilities/np.sum(probabilities)\n",
        "    r_list.extend(np.random.choice(closest,size=c,replace=False,p=probabilities))\n",
        "  return r_list\n"
      ],
      "execution_count": 0,
      "outputs": []
    },
    {
      "cell_type": "markdown",
      "metadata": {
        "colab_type": "text",
        "id": "8mwHc2zD7n1g"
      },
      "source": [
        "#Wyświetlanie rekomendacji\n",
        "Proste metody do wizualizacji rekomendacji wygenerowanych dla danego użytkownika wraz z listą filmów ostatnio przez niego ocenionych"
      ]
    },
    {
      "cell_type": "code",
      "metadata": {
        "id": "KTa-RNkyDXdp",
        "colab_type": "code",
        "colab": {}
      },
      "source": [
        "def get_movie_info(movieKey):\n",
        "  movie_id = movie_codes[movieKey]\n",
        "  info = movies_df[movies_df['movieId']==movie_id]\n",
        "  return np.array([movie_id,info['title'].values[0],info['genres'].values[0]])"
      ],
      "execution_count": 0,
      "outputs": []
    },
    {
      "cell_type": "code",
      "metadata": {
        "id": "5Lfpw3QP7Pjh",
        "colab_type": "code",
        "colab": {}
      },
      "source": [
        "def print_recommendations(user_id):\n",
        "  print(\"______________________\")\n",
        "  print(\"ID użytkownika: %d\"%(user_id))\n",
        "  print(\"----- Ostatnio wysoko ocenione filmy -----\")\n",
        "  for m,r in zip(user_ratings[user_id][0][:20],user_ratings[user_id][1][:20]):\n",
        "    if r>3:\n",
        "      info = get_movie_info(m)\n",
        "      print(info[1],info[2],r)\n",
        "  print(\"----- Rekomendacje -----\")\n",
        "  for i in gen_n_best(20,user_id):\n",
        "    info = get_movie_info(i)\n",
        "    print(info[1],info[2])"
      ],
      "execution_count": 0,
      "outputs": []
    },
    {
      "cell_type": "markdown",
      "metadata": {
        "id": "83hJ_JDKS5tU",
        "colab_type": "text"
      },
      "source": [
        "#Rekomendacje dla 1000 losowych użytkowników\n",
        "Aby ocenić jakość rekomendacji wygenerowane zostaną one dla 1000 losowych użytkowników.\n",
        "\n",
        "Muszą być one zapisane do pliku, ponieważ jednoczesne przechowywanie w pamięci danych dla generatora i algorytmu weryfikującego przekracza możliwości Google Colab"
      ]
    },
    {
      "cell_type": "code",
      "metadata": {
        "id": "QC8wvwRrfhG8",
        "colab_type": "code",
        "colab": {}
      },
      "source": [
        "users = np.random.choice(len(user_ratings),size=1000,replace=False)\n",
        "with open(\"recommendations.txt\",'w') as f:\n",
        "  for u in users:\n",
        "    for i in gen_n_best(20,u):\n",
        "      print(u,movie_codes[i],file=f)"
      ],
      "execution_count": 0,
      "outputs": []
    },
    {
      "cell_type": "markdown",
      "metadata": {
        "id": "PUIBU9XDJBOK",
        "colab_type": "text"
      },
      "source": [
        "#Surprise\n",
        "W celu weryfikacji działania algorytmu, użyta zostanie biblioteka Surprise oferująca implementacje wielu algorytmów rekomendujących.\n",
        "\n",
        "Umożliwia ona przewidywanie prawdopodobnej oceny filmu przez danego użytkownika na podstawie analizy innych jego ocen oraz ocen innych użytkowników.\n",
        "\n",
        "Miarą słuszności rekomendacji będzie średnia przewidywana ocena polecanych filmów oraz rozkład przewidywanych ocen.\n"
      ]
    },
    {
      "cell_type": "markdown",
      "metadata": {
        "id": "3pwMf_K7dxaY",
        "colab_type": "text"
      },
      "source": [
        "##Wczytywanie danych"
      ]
    },
    {
      "cell_type": "code",
      "metadata": {
        "id": "LF5k1gbw7poC",
        "colab_type": "code",
        "colab": {}
      },
      "source": [
        "!pip install surprise"
      ],
      "execution_count": 0,
      "outputs": []
    },
    {
      "cell_type": "code",
      "metadata": {
        "id": "aoR81l6O_7bY",
        "colab_type": "code",
        "colab": {}
      },
      "source": [
        "from surprise import BaselineOnly\n",
        "from surprise import Dataset\n",
        "from surprise import Reader\n",
        "from surprise.model_selection import cross_validate\n",
        "from surprise.model_selection import train_test_split\n",
        "from surprise import accuracy"
      ],
      "execution_count": 0,
      "outputs": []
    },
    {
      "cell_type": "code",
      "metadata": {
        "id": "S-r3Zy77JDdB",
        "colab_type": "code",
        "colab": {}
      },
      "source": [
        "reader = Reader(rating_scale=(0.5, 5))\n",
        "ratings_df = pd.read_csv(\"/content/mydrive/dataMining/movie_lens/ratings.csv\")\n",
        "data = Dataset.load_from_df(ratings_df[['userId', 'movieId', 'rating']], reader)\n",
        "ratings_df = None"
      ],
      "execution_count": 0,
      "outputs": []
    },
    {
      "cell_type": "code",
      "metadata": {
        "id": "6JJe0dcu9Lso",
        "colab_type": "code",
        "outputId": "5b0061cf-2f34-4f3e-bdee-a49db402c3de",
        "colab": {
          "base_uri": "https://localhost:8080/",
          "height": 51
        }
      },
      "source": [
        "trainset = data.build_full_trainset()\n",
        "bsl_options = {'method': 'als',\n",
        "               'n_epochs': 5,\n",
        "               'reg_u': 12,\n",
        "               'reg_i': 5\n",
        "               }\n",
        "algo = BaselineOnly(bsl_options=bsl_options)\n",
        "algo.fit(trainset)"
      ],
      "execution_count": 0,
      "outputs": [
        {
          "output_type": "stream",
          "text": [
            "Estimating biases using als...\n"
          ],
          "name": "stdout"
        },
        {
          "output_type": "execute_result",
          "data": {
            "text/plain": [
              "<surprise.prediction_algorithms.baseline_only.BaselineOnly at 0x7f367c976400>"
            ]
          },
          "metadata": {
            "tags": []
          },
          "execution_count": 6
        }
      ]
    },
    {
      "cell_type": "code",
      "metadata": {
        "id": "kKwUzWk-QOMM",
        "colab_type": "code",
        "colab": {}
      },
      "source": [
        "ratings = []\n",
        "with open('recommendations.txt','r') as file:\n",
        "  for line in file:\n",
        "    line = line.split()\n",
        "    ratings.append(algo.predict(int(line[0]),int(line[1]))[3])"
      ],
      "execution_count": 0,
      "outputs": []
    },
    {
      "cell_type": "markdown",
      "metadata": {
        "id": "mBifLWGxbDEn",
        "colab_type": "text"
      },
      "source": [
        "##Wyniki\n",
        "Przewidywane wartości zostaną zaokrąglone do najbliższej oceny "
      ]
    },
    {
      "cell_type": "code",
      "metadata": {
        "id": "H2oDp2JUTmDl",
        "colab_type": "code",
        "outputId": "2698c1dc-8e38-4c5b-bce7-747f17fff9a5",
        "colab": {
          "base_uri": "https://localhost:8080/",
          "height": 298
        }
      },
      "source": [
        "print(\"Średnia przewidywana ocena polecanych filmów według Surprise wyniesie: %f\"%(np.mean(ratings)))\n",
        "rounded = np.round(np.array(ratings)*2)/2\n",
        "rates, counts = np.unique(rounded, return_counts=True)\n",
        "counts = counts/np.sum(counts)\n",
        "plt.bar(rates.astype(str),counts)\n",
        "plt.title('Procentowa ilość poszczególnych ocen w przewidywanych')\n",
        "plt.show()"
      ],
      "execution_count": 0,
      "outputs": [
        {
          "output_type": "stream",
          "text": [
            "Średnia przewidywana ocena polecanych filmów według Surprise wyniesie: 3.581693\n"
          ],
          "name": "stdout"
        },
        {
          "output_type": "display_data",
          "data": {
            "image/png": "[encoded data removed]",
            "text/plain": [
              "<Figure size 432x288 with 1 Axes>"
            ]
          },
          "metadata": {
            "tags": []
          }
        }
      ]
    },
    {
      "cell_type": "markdown",
      "metadata": {
        "id": "d-nJnSyzYe_D",
        "colab_type": "text"
      },
      "source": [
        "#Wnioski"
      ]
    },
    {
      "cell_type": "markdown",
      "metadata": {
        "id": "aUhQD8FlZMST",
        "colab_type": "text"
      },
      "source": [
        "##Ocena wyników"
      ]
    },
    {
      "cell_type": "markdown",
      "metadata": {
        "id": "28A3BukRZgt2",
        "colab_type": "text"
      },
      "source": [
        "Wyniki testu rekomendacji za pomocą biblioteki Surprise pokazują, że skuteczność algorytmu można uznać za zadowalającą.\n",
        "\n",
        "Dla wylosowanej próbki 1000 rekomendacji:\n",
        "- Średnia przewidywana ocena wynosi ponad 3.5 gwiazdki, co można uznać za ocenę pozytywną\n",
        "- Ponad 90% z polecanych filmów według przewidywań powinno dostać od użytkownika ocenę nie niższą niż 3 gwiazdki\n",
        "- Około 75% zostanie ocenione na conajmniej 3.5 gwiazdki\n",
        "- Ponad 35% filmów otrzyma ocenę wyższą lub równą 4 gwiazdkom"
      ]
    },
    {
      "cell_type": "markdown",
      "metadata": {
        "id": "L0yvrjfraqKE",
        "colab_type": "text"
      },
      "source": [
        "##Możliwości rozwoju"
      ]
    },
    {
      "cell_type": "markdown",
      "metadata": {
        "id": "mLLN16fmcHfX",
        "colab_type": "text"
      },
      "source": [
        "W wielu miejscach implementacja algorytmu opiera się na dość naiwnych miarach i rozwiązaniach, takich jak proporcjonalność prawdopodobieństwa do odległości i oceny czy skalowanie ocen za pomocą funkcji wykładniczej. \n",
        "\n",
        "W celu zmaksymalizowania efektywności algorytmu dobrym pomysłem byłaby wnikliwa analiza poszczególnych problemów i dobranie miar dających jak najlepsze wyniki.\n",
        "\n",
        "Oprócz tego algorytm w obecnej wersji zwraca wyłącznie listę rekomendowanych filmów. W jego implementacji jest jednak miejsce również na przewidywanie oceny użytkownika tak jak ma to miejsce w bibliotece Surprise."
      ]
    }
  ]
}